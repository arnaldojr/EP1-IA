{
 "cells": [
  {
   "cell_type": "code",
   "execution_count": 1,
   "metadata": {},
   "outputs": [],
   "source": [
    "import util"
   ]
  },
  {
   "cell_type": "code",
   "execution_count": 27,
   "metadata": {},
   "outputs": [],
   "source": [
    "class SegmentationProblem(util.Problem):\n",
    "    def __init__(self, query, unigramCost):\n",
    "        self.query = query\n",
    "        self.unigramCost = unigramCost\n",
    "\n",
    "    def isState(self, state):\n",
    "        \"\"\" Metodo que implementa verificacao de estado \"\"\"\n",
    "        #raise NotImplementedError\n",
    "        if (state == len(self.query)):\n",
    "            return True\n",
    "        else:\n",
    "            return False\n",
    "\n",
    "    def initialState(self):\n",
    "        \"\"\" Metodo que implementa retorno da posicao inicial \"\"\"\n",
    "        #raise NotImplementedError\n",
    "        return 0\n",
    "\n",
    "    def actions(self, state):\n",
    "        \"\"\" Metodo que implementa retorno da lista de acoes validas\n",
    "        para um determinado estado\n",
    "        \"\"\"\n",
    "        # raise NotImplementedError\n",
    "        word = self.query[state:]\n",
    "        action = [word[:i] for i in range(1,len(word) + 1)  ]\n",
    "        return action\n",
    "\n",
    "\n",
    "    def nextState(self, state, action):\n",
    "        \"\"\" Metodo que implementa funcao de transicao \"\"\"\n",
    "        #raise NotImplementedError\n",
    "        nextstate = state + len(action)\n",
    "        return nextstate\n",
    "\n",
    "\n",
    "    def isGoalState(self, state):\n",
    "        \"\"\" Metodo que implementa teste de meta \"\"\"\n",
    "        #raise NotImplementedError\n",
    "        if (state == len(self.query)):\n",
    "            return True\n",
    "        else:\n",
    "            return False\n",
    "\n",
    "    def stepCost(self, state, action):\n",
    "        \"\"\" Metodo que implementa funcao custo \"\"\"\n",
    "        #raise NotImplementedError\n",
    "        stepcost = self.unigramCost(action)\n",
    "        if state != self.initialState:\n",
    "            return stepcost\n",
    "\n"
   ]
  },
  {
   "cell_type": "code",
   "execution_count": 1,
   "metadata": {},
   "outputs": [],
   "source": [
    "def segmentWords(query, unigramCost):\n",
    "\n",
    "    if len(query) == 0:\n",
    "        return ''\n",
    "    else:\n",
    "    # BEGIN_YOUR_CODE \n",
    "    # Voce pode usar a função getSolution para recuperar a sua solução a partir do no meta\n",
    "    # valid,solution  = util.getSolution(goalNode,problem)\n",
    "    # raise NotImplementedError\n",
    "        problem = SegmentationProblem(query, unigramCost)\n",
    "        goal = util.uniformCostSearch(problem)\n",
    "        valid, solution  = util.getSolution(goal,problem)\n",
    "        return solution\n",
    "    # END_YOUR_CODE\n",
    ""
   ]
  },
  {
   "cell_type": "code",
   "execution_count": 2,
   "metadata": {},
   "outputs": [],
   "source": [
    "def getRealCosts(corpus='corpus.txt'):\n",
    "\n",
    "    \"\"\" Retorna as funcoes de custo unigrama, bigrama e possiveis fills obtidas a partir do corpus.\"\"\"\n",
    "    \n",
    "    _realUnigramCost, _realBigramCost, _possibleFills = None, None, None\n",
    "    if _realUnigramCost is None:\n",
    "        print('Training language cost functions [corpus: '+ corpus+']... ')\n",
    "        \n",
    "        _realUnigramCost, _realBigramCost = util.makeLanguageModels(corpus)\n",
    "        _possibleFills = util.makeInverseRemovalDictionary(corpus, 'aeiou')\n",
    "\n",
    "        print('Done!')\n",
    "\n",
    "    return _realUnigramCost, _realBigramCost, _possibleFills"
   ]
  },
  {
   "cell_type": "code",
   "execution_count": 3,
   "metadata": {},
   "outputs": [
    {
     "output_type": "stream",
     "name": "stdout",
     "text": "Training language cost functions [corpus: corpus.txt]... \n"
    },
    {
     "output_type": "error",
     "ename": "NameError",
     "evalue": "name 'util' is not defined",
     "traceback": [
      "\u001b[0;31m---------------------------------------------------------------------------\u001b[0m",
      "\u001b[0;31mNameError\u001b[0m                                 Traceback (most recent call last)",
      "\u001b[0;32m<ipython-input-3-39b2054100cf>\u001b[0m in \u001b[0;36m<module>\u001b[0;34m\u001b[0m\n\u001b[0;32m----> 1\u001b[0;31m \u001b[0munigramCost\u001b[0m\u001b[0;34m,\u001b[0m \u001b[0mbigramCost\u001b[0m\u001b[0;34m,\u001b[0m \u001b[0mpossibleFills\u001b[0m  \u001b[0;34m=\u001b[0m  \u001b[0mgetRealCosts\u001b[0m\u001b[0;34m(\u001b[0m\u001b[0;34m)\u001b[0m\u001b[0;34m\u001b[0m\u001b[0;34m\u001b[0m\u001b[0m\n\u001b[0m",
      "\u001b[0;32m<ipython-input-2-b84d8d8742a1>\u001b[0m in \u001b[0;36mgetRealCosts\u001b[0;34m(corpus)\u001b[0m\n\u001b[1;32m      7\u001b[0m         \u001b[0mprint\u001b[0m\u001b[0;34m(\u001b[0m\u001b[0;34m'Training language cost functions [corpus: '\u001b[0m\u001b[0;34m+\u001b[0m \u001b[0mcorpus\u001b[0m\u001b[0;34m+\u001b[0m\u001b[0;34m']... '\u001b[0m\u001b[0;34m)\u001b[0m\u001b[0;34m\u001b[0m\u001b[0;34m\u001b[0m\u001b[0m\n\u001b[1;32m      8\u001b[0m \u001b[0;34m\u001b[0m\u001b[0m\n\u001b[0;32m----> 9\u001b[0;31m         \u001b[0m_realUnigramCost\u001b[0m\u001b[0;34m,\u001b[0m \u001b[0m_realBigramCost\u001b[0m \u001b[0;34m=\u001b[0m \u001b[0mutil\u001b[0m\u001b[0;34m.\u001b[0m\u001b[0mmakeLanguageModels\u001b[0m\u001b[0;34m(\u001b[0m\u001b[0mcorpus\u001b[0m\u001b[0;34m)\u001b[0m\u001b[0;34m\u001b[0m\u001b[0;34m\u001b[0m\u001b[0m\n\u001b[0m\u001b[1;32m     10\u001b[0m         \u001b[0m_possibleFills\u001b[0m \u001b[0;34m=\u001b[0m \u001b[0mutil\u001b[0m\u001b[0;34m.\u001b[0m\u001b[0mmakeInverseRemovalDictionary\u001b[0m\u001b[0;34m(\u001b[0m\u001b[0mcorpus\u001b[0m\u001b[0;34m,\u001b[0m \u001b[0;34m'aeiou'\u001b[0m\u001b[0;34m)\u001b[0m\u001b[0;34m\u001b[0m\u001b[0;34m\u001b[0m\u001b[0m\n\u001b[1;32m     11\u001b[0m \u001b[0;34m\u001b[0m\u001b[0m\n",
      "\u001b[0;31mNameError\u001b[0m: name 'util' is not defined"
     ]
    }
   ],
   "source": [
    "  unigramCost, bigramCost, possibleFills  =  getRealCosts()"
   ]
  },
  {
   "cell_type": "code",
   "execution_count": 4,
   "metadata": {},
   "outputs": [
    {
     "output_type": "error",
     "ename": "NameError",
     "evalue": "name 'unigramCost' is not defined",
     "traceback": [
      "\u001b[0;31m---------------------------------------------------------------------------\u001b[0m",
      "\u001b[0;31mNameError\u001b[0m                                 Traceback (most recent call last)",
      "\u001b[0;32m<ipython-input-4-4fd2bc6b7477>\u001b[0m in \u001b[0;36m<module>\u001b[0;34m\u001b[0m\n\u001b[0;32m----> 1\u001b[0;31m \u001b[0mresulSegment\u001b[0m \u001b[0;34m=\u001b[0m \u001b[0msegmentWords\u001b[0m\u001b[0;34m(\u001b[0m\u001b[0;34m'believeinyourselfhavefaithinyourabilities'\u001b[0m\u001b[0;34m,\u001b[0m \u001b[0munigramCost\u001b[0m\u001b[0;34m)\u001b[0m\u001b[0;34m\u001b[0m\u001b[0;34m\u001b[0m\u001b[0m\n\u001b[0m",
      "\u001b[0;31mNameError\u001b[0m: name 'unigramCost' is not defined"
     ]
    }
   ],
   "source": [
    " resulSegment = segmentWords('believeinyourselfhavefaithinyourabilities', unigramCost)"
   ]
  },
  {
   "cell_type": "code",
   "execution_count": 5,
   "metadata": {},
   "outputs": [
    {
     "output_type": "error",
     "ename": "NameError",
     "evalue": "name 'resulSegment' is not defined",
     "traceback": [
      "\u001b[0;31m---------------------------------------------------------------------------\u001b[0m",
      "\u001b[0;31mNameError\u001b[0m                                 Traceback (most recent call last)",
      "\u001b[0;32m<ipython-input-5-5a6b787af9c4>\u001b[0m in \u001b[0;36m<module>\u001b[0;34m\u001b[0m\n\u001b[0;32m----> 1\u001b[0;31m \u001b[0mprint\u001b[0m\u001b[0;34m(\u001b[0m\u001b[0mresulSegment\u001b[0m\u001b[0;34m)\u001b[0m\u001b[0;34m\u001b[0m\u001b[0;34m\u001b[0m\u001b[0m\n\u001b[0m",
      "\u001b[0;31mNameError\u001b[0m: name 'resulSegment' is not defined"
     ]
    }
   ],
   "source": [
    "    print(resulSegment)"
   ]
  },
  {
   "cell_type": "code",
   "execution_count": null,
   "metadata": {},
   "outputs": [],
   "source": []
  }
 ],
 "metadata": {
  "kernelspec": {
   "display_name": "Python 3",
   "language": "python",
   "name": "python3"
  },
  "language_info": {
   "codemirror_mode": {
    "name": "ipython",
    "version": 3
   },
   "file_extension": ".py",
   "mimetype": "text/x-python",
   "name": "python",
   "nbconvert_exporter": "python",
   "pygments_lexer": "ipython3",
   "version": "2.7.17-final"
  }
 },
 "nbformat": 4,
 "nbformat_minor": 2
}